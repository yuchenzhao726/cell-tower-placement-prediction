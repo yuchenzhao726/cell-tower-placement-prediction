﻿{
  "metadata": {
    "name": "sf-airbnb-linear-regression.ipynb",
    "kernelspec": {
      "language": "scala",
      "name": "spark2-scala"
    },
    "language_info": {
      "codemirror_mode": "text/x-scala",
      "file_extension": ".scala",
      "mimetype": "text/x-scala",
      "name": "scala",
      "pygments_lexer": "scala"
    }
  },
  "nbformat": 4,
  "nbformat_minor": 2,
  "cells": [
    {
      "cell_type": "code",
      "execution_count": 0,
      "metadata": {
        "autoscroll": "auto"
      },
      "outputs": [],
      "source": "val filePath \u003d \"project/datasets/training_set_4\"\nval df \u003d spark.read.parquet(filePath).na.fill(0)\nz.show(df)"
    },
    {
      "cell_type": "code",
      "execution_count": 1,
      "metadata": {
        "autoscroll": "auto"
      },
      "outputs": [],
      "source": "df.cache().count"
    },
    {
      "cell_type": "code",
      "execution_count": 2,
      "metadata": {
        "autoscroll": "auto"
      },
      "outputs": [],
      "source": "df.printSchema"
    },
    {
      "cell_type": "code",
      "execution_count": 3,
      "metadata": {
        "autoscroll": "auto"
      },
      "outputs": [],
      "source": "z.show(df.describe())"
    },
    {
      "cell_type": "code",
      "execution_count": 4,
      "metadata": {
        "autoscroll": "auto"
      },
      "outputs": [],
      "source": "z.show(df.summary())"
    },
    {
      "cell_type": "code",
      "execution_count": 5,
      "metadata": {
        "autoscroll": "auto"
      },
      "outputs": [],
      "source": "import org.apache.spark.ml.feature.VectorAssembler\n\nval vecAssembler \u003d new VectorAssembler()\n  .setInputCols(Array(\"area\", \"pop_cnt_sum_norm\", \"stddv_elevation\", \"total_building_cnt\", \"total_building_area\"))\n  .setOutputCol(\"features\")\n\nval vecTrainDF \u003d vecAssembler.transform(trainDF)\n\nz.show(vecTrainDF)"
    },
    {
      "cell_type": "code",
      "execution_count": 6,
      "metadata": {
        "autoscroll": "auto"
      },
      "outputs": [],
      "source": "import org.apache.spark.ml.feature.StandardScaler\r\nval scaler \u003d new StandardScaler()\r\n  .setInputCol(\"features\")\r\n  .setOutputCol(\"scaledFeatures\")\r\n  .setWithStd(true)\r\n  .setWithMean(true)\r\n  \r\nval scale_model \u003d scaler.fit(vecTrainDF)\r\n\r\nval vecTrainDF_scaled \u003d scale_model.transform(vecTrainDF)\r\n\r\nz.show(vecTrainDF_scaled)"
    },
    {
      "cell_type": "code",
      "execution_count": 7,
      "metadata": {
        "autoscroll": "auto"
      },
      "outputs": [],
      "source": "import org.apache.spark.ml.regression.LinearRegression\n\nval lr \u003d new LinearRegression()\n  .setFeaturesCol(\"scaledFeatures\")\n  .setLabelCol(\"cell_tower_num\")\n\nval lrModel \u003d lr.fit(vecTrainDF_scaled)"
    },
    {
      "cell_type": "code",
      "execution_count": 8,
      "metadata": {
        "autoscroll": "auto"
      },
      "outputs": [],
      "source": "import org.apache.spark.ml.Pipeline\n\nval pipeline \u003d new Pipeline().setStages(Array(vecAssembler, scaler, lr))\nval pipelineModel \u003d pipeline.fit(trainDF)"
    },
    {
      "cell_type": "code",
      "execution_count": 9,
      "metadata": {
        "autoscroll": "auto"
      },
      "outputs": [],
      "source": "pipelineModel.write.overwrite().save(\"project/ctower_cnt_lr_model\")"
    },
    {
      "cell_type": "code",
      "execution_count": 10,
      "metadata": {
        "autoscroll": "auto"
      },
      "outputs": [],
      "source": "val predDF \u003d pipelineModel.transform(testDF)\n\nz.show(predDF)"
    },
    {
      "cell_type": "code",
      "execution_count": 11,
      "metadata": {
        "autoscroll": "auto"
      },
      "outputs": [],
      "source": "import org.apache.spark.ml.evaluation.RegressionEvaluator \nval regressionEvaluator \u003d new RegressionEvaluator()\n    .setPredictionCol(\"prediction\")\n    .setLabelCol(\"cell_tower_num\")\n    .setMetricName(\"rmse\") \nval rmse \u003d regressionEvaluator.evaluate(predDF) \n\nprintln(f\"RMSE is $rmse%.1f\") "
    },
    {
      "cell_type": "code",
      "execution_count": 12,
      "metadata": {
        "autoscroll": "auto"
      },
      "outputs": [],
      "source": "val r2 \u003d regressionEvaluator.setMetricName(\"r2\").evaluate(predDF) \nprintln(s\"R2 is $r2\")"
    }
  ]
}